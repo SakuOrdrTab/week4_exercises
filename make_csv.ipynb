{
  "cells": [
    {
      "cell_type": "markdown",
      "metadata": {
        "id": "rAUJ3IU4OjsN"
      },
      "source": [
        "Makes a .csv for the course"
      ]
    },
    {
      "cell_type": "code",
      "execution_count": 14,
      "metadata": {
        "id": "UbvDC1aOOcCO"
      },
      "outputs": [],
      "source": [
        "import pandas as pd"
      ]
    },
    {
      "cell_type": "code",
      "execution_count": 15,
      "metadata": {},
      "outputs": [
        {
          "data": {
            "text/html": [
              "<div>\n",
              "<style scoped>\n",
              "    .dataframe tbody tr th:only-of-type {\n",
              "        vertical-align: middle;\n",
              "    }\n",
              "\n",
              "    .dataframe tbody tr th {\n",
              "        vertical-align: top;\n",
              "    }\n",
              "\n",
              "    .dataframe thead th {\n",
              "        text-align: right;\n",
              "    }\n",
              "</style>\n",
              "<table border=\"1\" class=\"dataframe\">\n",
              "  <thead>\n",
              "    <tr style=\"text-align: right;\">\n",
              "      <th></th>\n",
              "      <th>user_story</th>\n",
              "      <th>epic</th>\n",
              "      <th>description</th>\n",
              "      <th>suggestion</th>\n",
              "      <th>key</th>\n",
              "      <th>dollar_allocation</th>\n",
              "    </tr>\n",
              "  </thead>\n",
              "  <tbody>\n",
              "    <tr>\n",
              "      <th>0</th>\n",
              "      <td>As a business executive, I want to build AI to...</td>\n",
              "      <td>Web GUI for AI Tool Creation (This epic may en...</td>\n",
              "      <td>The web GUI must allow users to create AI tool...</td>\n",
              "      <td>- Role: Product Owner \\n   - Suggestion: Ensur...</td>\n",
              "      <td>0</td>\n",
              "      <td>30</td>\n",
              "    </tr>\n",
              "    <tr>\n",
              "      <th>1</th>\n",
              "      <td>As a business analyst, I want to input user re...</td>\n",
              "      <td>Multimodal Input for User Stories (This epic m...</td>\n",
              "      <td>The system should accept user stories sent thr...</td>\n",
              "      <td>- Role: Product Owner \\n   - Suggestion: Ensur...</td>\n",
              "      <td>1</td>\n",
              "      <td>20</td>\n",
              "    </tr>\n",
              "    <tr>\n",
              "      <th>2</th>\n",
              "      <td>As a user, I want AI agents to automatically g...</td>\n",
              "      <td>Automated User Story Generation (This epic may...</td>\n",
              "      <td>If no user stories are presented, AI agents sh...</td>\n",
              "      <td>- Role: Product Owner \\n   - Suggestion: Ensur...</td>\n",
              "      <td>2</td>\n",
              "      <td>15</td>\n",
              "    </tr>\n",
              "    <tr>\n",
              "      <th>3</th>\n",
              "      <td>As a data scientist, I want to view and select...</td>\n",
              "      <td>Model and Fine-Tuning Node Selection (This epi...</td>\n",
              "      <td>The web GUI must display different models and ...</td>\n",
              "      <td>- Role: Product Owner \\n   - Suggestion: Ensur...</td>\n",
              "      <td>3</td>\n",
              "      <td>10</td>\n",
              "    </tr>\n",
              "    <tr>\n",
              "      <th>4</th>\n",
              "      <td>As a business user, I want to see evaluation m...</td>\n",
              "      <td>Performance Evaluation and Visualization (This...</td>\n",
              "      <td>The web GUI should present evaluation metrics ...</td>\n",
              "      <td>- Role: Product Owner \\n   - Suggestion: Ensur...</td>\n",
              "      <td>4</td>\n",
              "      <td>10</td>\n",
              "    </tr>\n",
              "    <tr>\n",
              "      <th>5</th>\n",
              "      <td>As a developer, I want AI agents to analyze th...</td>\n",
              "      <td>API Generation for AI Tools (This epic may enc...</td>\n",
              "      <td>The AI agents must assess the created AI tools...</td>\n",
              "      <td>- Role: Product Owner \\n   - Suggestion: Ensur...</td>\n",
              "      <td>5</td>\n",
              "      <td>5</td>\n",
              "    </tr>\n",
              "    <tr>\n",
              "      <th>6</th>\n",
              "      <td>As a project manager, I want to receive notifi...</td>\n",
              "      <td>Notifications and Suggestions from AI Agents (...</td>\n",
              "      <td>The system should send real-time notifications...</td>\n",
              "      <td>- Role: Product Owner \\n   - Suggestion: Ensur...</td>\n",
              "      <td>6</td>\n",
              "      <td>5</td>\n",
              "    </tr>\n",
              "    <tr>\n",
              "      <th>7</th>\n",
              "      <td>As a business user, I want to customize the pa...</td>\n",
              "      <td>Model Parameter Customization (This epic may e...</td>\n",
              "      <td>The web GUI must allow users to input and adju...</td>\n",
              "      <td>- Role: Product Owner \\n   - Suggestion: Ensur...</td>\n",
              "      <td>7</td>\n",
              "      <td>5</td>\n",
              "    </tr>\n",
              "    <tr>\n",
              "      <th>8</th>\n",
              "      <td>As an executive, I want to have a dashboard ov...</td>\n",
              "      <td>Dashboard for AI Tool Management (This epic ma...</td>\n",
              "      <td>The system should provide a dashboard that dis...</td>\n",
              "      <td>- Role: Product Owner \\n   - Suggestion: Ensur...</td>\n",
              "      <td>8</td>\n",
              "      <td>0</td>\n",
              "    </tr>\n",
              "    <tr>\n",
              "      <th>9</th>\n",
              "      <td>As a user, I want the AI agent to suggest best...</td>\n",
              "      <td>User Guidance and Best Practices (This epic ma...</td>\n",
              "      <td>The AI agent should provide contextual tips an...</td>\n",
              "      <td>- Role: Product Owner \\n   - Suggestion: Ensur...</td>\n",
              "      <td>9</td>\n",
              "      <td>0</td>\n",
              "    </tr>\n",
              "  </tbody>\n",
              "</table>\n",
              "</div>"
            ],
            "text/plain": [
              "                                          user_story  \\\n",
              "0  As a business executive, I want to build AI to...   \n",
              "1  As a business analyst, I want to input user re...   \n",
              "2  As a user, I want AI agents to automatically g...   \n",
              "3  As a data scientist, I want to view and select...   \n",
              "4  As a business user, I want to see evaluation m...   \n",
              "5  As a developer, I want AI agents to analyze th...   \n",
              "6  As a project manager, I want to receive notifi...   \n",
              "7  As a business user, I want to customize the pa...   \n",
              "8  As an executive, I want to have a dashboard ov...   \n",
              "9  As a user, I want the AI agent to suggest best...   \n",
              "\n",
              "                                                epic  \\\n",
              "0  Web GUI for AI Tool Creation (This epic may en...   \n",
              "1  Multimodal Input for User Stories (This epic m...   \n",
              "2  Automated User Story Generation (This epic may...   \n",
              "3  Model and Fine-Tuning Node Selection (This epi...   \n",
              "4  Performance Evaluation and Visualization (This...   \n",
              "5  API Generation for AI Tools (This epic may enc...   \n",
              "6  Notifications and Suggestions from AI Agents (...   \n",
              "7  Model Parameter Customization (This epic may e...   \n",
              "8  Dashboard for AI Tool Management (This epic ma...   \n",
              "9  User Guidance and Best Practices (This epic ma...   \n",
              "\n",
              "                                         description  \\\n",
              "0  The web GUI must allow users to create AI tool...   \n",
              "1  The system should accept user stories sent thr...   \n",
              "2  If no user stories are presented, AI agents sh...   \n",
              "3  The web GUI must display different models and ...   \n",
              "4  The web GUI should present evaluation metrics ...   \n",
              "5  The AI agents must assess the created AI tools...   \n",
              "6  The system should send real-time notifications...   \n",
              "7  The web GUI must allow users to input and adju...   \n",
              "8  The system should provide a dashboard that dis...   \n",
              "9  The AI agent should provide contextual tips an...   \n",
              "\n",
              "                                          suggestion  key  dollar_allocation  \n",
              "0  - Role: Product Owner \\n   - Suggestion: Ensur...    0                 30  \n",
              "1  - Role: Product Owner \\n   - Suggestion: Ensur...    1                 20  \n",
              "2  - Role: Product Owner \\n   - Suggestion: Ensur...    2                 15  \n",
              "3  - Role: Product Owner \\n   - Suggestion: Ensur...    3                 10  \n",
              "4  - Role: Product Owner \\n   - Suggestion: Ensur...    4                 10  \n",
              "5  - Role: Product Owner \\n   - Suggestion: Ensur...    5                  5  \n",
              "6  - Role: Product Owner \\n   - Suggestion: Ensur...    6                  5  \n",
              "7  - Role: Product Owner \\n   - Suggestion: Ensur...    7                  5  \n",
              "8  - Role: Product Owner \\n   - Suggestion: Ensur...    8                  0  \n",
              "9  - Role: Product Owner \\n   - Suggestion: Ensur...    9                  0  "
            ]
          },
          "execution_count": 15,
          "metadata": {},
          "output_type": "execute_result"
        }
      ],
      "source": [
        "# Read the file from unsecure ref site\n",
        "in_df = pd.read_csv(\"final_prioritization_4o.csv\")\n",
        "in_df"
      ]
    },
    {
      "cell_type": "code",
      "execution_count": 16,
      "metadata": {},
      "outputs": [
        {
          "data": {
            "text/plain": [
              "['As a business executive, I want to build AI tools using a web GUI, in order to empower my organization with AI capabilities without needing a development team.',\n",
              " 'As a business analyst, I want to input user requirements via SMS, WhatsApp, or voice recorder, in order to create user stories for AI tool development.',\n",
              " 'As a user, I want AI agents to automatically generate user stories when none are provided, in order to streamline the AI tool creation process.',\n",
              " 'As a data scientist, I want to view and select from various AI models and fine-tuning options represented as nodes in the web UI, in order to tailor AI solutions to specific needs.',\n",
              " 'As a business user, I want to see evaluation metrics and output visualizations in the web UI, in order to assess the performance of the AI tools I create.',\n",
              " 'As a developer, I want AI agents to analyze the created AI tool and generate an API for integration, in order to easily embed the tool into existing business systems.',\n",
              " 'As a project manager, I want to receive notifications about the progress and suggestions provided by AI agents during the tool creation process, in order to stay informed and make timely decisions.',\n",
              " 'As a business user, I want to customize the parameters of the AI models in the web GUI, in order to better fit the specific needs of my organization.',\n",
              " 'As an executive, I want to have a dashboard overview of all AI tools created by my team, in order to monitor their performance and usage.',\n",
              " 'As a user, I want the AI agent to suggest best practices and tips for using the GUI effectively, in order to maximize my productivity.']"
            ]
          },
          "execution_count": 16,
          "metadata": {},
          "output_type": "execute_result"
        }
      ],
      "source": [
        "# extract stories to a list\n",
        "generated_stories = list(in_df['user_story'])\n",
        "generated_stories"
      ]
    },
    {
      "cell_type": "code",
      "execution_count": 21,
      "metadata": {
        "id": "sAMEzHZrOvDc"
      },
      "outputs": [],
      "source": [
        "# Assign the data\n",
        "\n",
        "data = {\n",
        "    'MVP': [\n",
        "        \"A Web GUI allowing building specialized AI tools (LLM, Computer vision, audio) with no code. GUI is based on nodes with user requirements as inputs and these requirements can be created either by human by generated by AI.\\n\"\n",
        "        \"Minimum requirements:\\n\"\n",
        "        \"user stories can be sent to the backend api multimodally: SMS, whatsapp, voice recorder\\n\"\n",
        "        \"If no stories are presented they can be created by AI agents with or without human interference\\n\"\n",
        "        \"The different models and FT options are represented as nodes in webui frontend. An AI agent can select or suggest a model\\n\"\n",
        "        \"fine-tuning process also by nodes and either by AI agent or suggestions\\n\"\n",
        "        \"Evaluation metrics and output visualizations in webui\\n\"\n",
        "        \"AI agents analyze and create api for the product (produced AI agent) that can be incorporated to the user’s software. Agent will also inform, how the embedding to user’s system can be done.\"\n",
        "    ],\n",
        "    'Vision': [\n",
        "        \"The new way to incorporate AI to all existing business systems without the need for development team or process\"\n",
        "    ],\n",
        "    'User Stories': [\n",
        "        generated_stories\n",
        "    ],\n",
        "    'feedback': [\n",
        "        \"My added feedback made the user stories revised as wanted. In general, I was not very impressed with the user stories. They were a bit straight derivations of my MVP description. I think it would be an improvement, if more and more concrete stories would be generated and most off them culled in prioritization.\"\n",
        "    ]\n",
        "}"
      ]
    },
    {
      "cell_type": "code",
      "execution_count": 22,
      "metadata": {
        "id": "U4b9qFqcO3Q1"
      },
      "outputs": [
        {
          "data": {
            "text/html": [
              "<div>\n",
              "<style scoped>\n",
              "    .dataframe tbody tr th:only-of-type {\n",
              "        vertical-align: middle;\n",
              "    }\n",
              "\n",
              "    .dataframe tbody tr th {\n",
              "        vertical-align: top;\n",
              "    }\n",
              "\n",
              "    .dataframe thead th {\n",
              "        text-align: right;\n",
              "    }\n",
              "</style>\n",
              "<table border=\"1\" class=\"dataframe\">\n",
              "  <thead>\n",
              "    <tr style=\"text-align: right;\">\n",
              "      <th></th>\n",
              "      <th>MVP</th>\n",
              "      <th>Vision</th>\n",
              "      <th>User Stories</th>\n",
              "      <th>feedback</th>\n",
              "    </tr>\n",
              "  </thead>\n",
              "  <tbody>\n",
              "    <tr>\n",
              "      <th>0</th>\n",
              "      <td>A Web GUI allowing building specialized AI too...</td>\n",
              "      <td>The new way to incorporate AI to all existing ...</td>\n",
              "      <td>[As a business executive, I want to build AI t...</td>\n",
              "      <td>My added feedback made the user stories revise...</td>\n",
              "    </tr>\n",
              "  </tbody>\n",
              "</table>\n",
              "</div>"
            ],
            "text/plain": [
              "                                                 MVP  \\\n",
              "0  A Web GUI allowing building specialized AI too...   \n",
              "\n",
              "                                              Vision  \\\n",
              "0  The new way to incorporate AI to all existing ...   \n",
              "\n",
              "                                        User Stories  \\\n",
              "0  [As a business executive, I want to build AI t...   \n",
              "\n",
              "                                            feedback  \n",
              "0  My added feedback made the user stories revise...  "
            ]
          },
          "execution_count": 22,
          "metadata": {},
          "output_type": "execute_result"
        }
      ],
      "source": [
        "# to a df\n",
        "df = pd.DataFrame(data)\n",
        "df"
      ]
    },
    {
      "cell_type": "code",
      "execution_count": 23,
      "metadata": {
        "id": "1FWxB-2kO9Cc"
      },
      "outputs": [],
      "source": [
        "# Save the DataFrame to a CSV file\n",
        "df.to_csv(\"week5_SL.csv\", index=False, sep=\";\")"
      ]
    },
    {
      "cell_type": "code",
      "execution_count": 24,
      "metadata": {
        "colab": {
          "base_uri": "https://localhost:8080/"
        },
        "id": "GIEfOiVRPBQM",
        "outputId": "39f6369a-71d3-4347-eeca-52ce9296a755"
      },
      "outputs": [
        {
          "name": "stdout",
          "output_type": "stream",
          "text": [
            "                                                 MVP  \\\n",
            "0  A Web GUI allowing building specialized AI too...   \n",
            "\n",
            "                                              Vision  \\\n",
            "0  The new way to incorporate AI to all existing ...   \n",
            "\n",
            "                                        User Stories  \\\n",
            "0  ['As a business executive, I want to build AI ...   \n",
            "\n",
            "                                            feedback  \n",
            "0  My added feedback made the user stories revise...  \n"
          ]
        }
      ],
      "source": [
        "# To verify the contents (optional):\n",
        "loaded_df = pd.read_csv(\"week5_SL.csv\", sep=\";\")\n",
        "print(loaded_df)"
      ]
    }
  ],
  "metadata": {
    "colab": {
      "provenance": []
    },
    "kernelspec": {
      "display_name": ".venv",
      "language": "python",
      "name": "python3"
    },
    "language_info": {
      "codemirror_mode": {
        "name": "ipython",
        "version": 3
      },
      "file_extension": ".py",
      "mimetype": "text/x-python",
      "name": "python",
      "nbconvert_exporter": "python",
      "pygments_lexer": "ipython3",
      "version": "3.10.11"
    }
  },
  "nbformat": 4,
  "nbformat_minor": 0
}
